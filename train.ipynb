{
 "cells": [
  {
   "cell_type": "markdown",
   "id": "e2c2b112-a6cb-4741-bc23-ec6df7f100a9",
   "metadata": {},
   "source": [
    "## [Multi-Scale Energy (MuSE) Framework for Inverse Problems in Imaging](https://ieeexplore.ieee.org/stamp/stamp.jsp?arnumber=10645311)\n",
    "Jyothi Rikhab Chand, Mathews Jacob"
   ]
  },
  {
   "cell_type": "markdown",
   "id": "f5e209ac-8136-4064-b622-2949e3010adb",
   "metadata": {},
   "source": [
    "# Goal of this Notebook:\n",
    "To train an implicit multi-scale energy model to represent the negative log-prior  using the [denoising score matching](https://ieeexplore.ieee.org/abstract/document/6795935) technique on an example MRI dataset. \n",
    "\n",
    "# Required libraries:\n",
    "- numpy\n",
    "- torch\n",
    "- matplotlib\n",
    "- os\n",
    "  "
   ]
  },
  {
   "cell_type": "code",
   "execution_count": 1,
   "id": "0010e43b-09c0-49ca-9951-455a8dc169f7",
   "metadata": {
    "tags": []
   },
   "outputs": [],
   "source": [
    "# Preliminaries\n",
    "import matplotlib.pyplot as plt\n",
    "import numpy as np\n",
    "import torch\n",
    "import torch.optim as optim\n",
    "from torch.utils.data import DataLoader\n",
    "from torch.optim import Adam\n",
    "from torch.optim.lr_scheduler import ReduceLROnPlateau\n",
    "import os\n",
    "from tqdm.notebook import tqdm\n",
    "os.environ[\"CUBLAS_WORKSPACE_CONFIG\"]=\":4096:8\"\n",
    "device = torch.device(\"cuda:0\" if torch.cuda.is_available() else \"cpu\")\n",
    "\n",
    "\n",
    "#Load dataloader\n",
    "from data_builder import DataGenBrain\n",
    "\n",
    "#Load save model script\n",
    "from saveModels import saveHelper\n",
    "\n",
    "#Load energy model script\n",
    "from energy_model import *\n",
    "from network_unet import UNetRes\n",
    "\n",
    "\n",
    "torch.cuda.empty_cache()"
   ]
  },
  {
   "cell_type": "markdown",
   "id": "7e9f589d-0d16-4f06-9619-b955347df5d3",
   "metadata": {},
   "source": [
    "## Load Train Settings"
   ]
  },
  {
   "cell_type": "code",
   "execution_count": 2,
   "id": "7291c76b-2870-4c20-a27f-c28df9e8ef69",
   "metadata": {},
   "outputs": [
    {
     "name": "stdout",
     "output_type": "stream",
     "text": [
      "Models/Example_data/Exists\n",
      "Directory Exist; removing it\n"
     ]
    }
   ],
   "source": [
    "import json\n",
    "gpu = torch.device('cuda')\n",
    "load_train_setting = open(\"settings.json\")\n",
    "ts = json.load(load_train_setting)\n",
    "save_dir = \"Models/Example_data/\"\n",
    "save_model = saveHelper(save_dir,\"Training\")\n",
    "n_epochs = ts[\"epochs\"]\n",
    "epochs = np.arange(n_epochs)\n",
    "rate = ts[\"rate\"]\n",
    "save_every_N_epoch = ts[\"save_every_N_epoch\"]\n",
    "t_loss = []\n",
    "\n",
    "std_fixed = torch.linspace(ts[\"std_start\"],ts[\"std_end\"],ts[\"batch_size\"])"
   ]
  },
  {
   "cell_type": "markdown",
   "id": "c0565112-b2e0-42f1-8f41-3c97c965fadc",
   "metadata": {},
   "source": [
    "## Load Dataset"
   ]
  },
  {
   "cell_type": "code",
   "execution_count": 3,
   "id": "1f9e8a3d-6e3b-4812-a5df-5a777f8feead",
   "metadata": {
    "tags": []
   },
   "outputs": [
    {
     "name": "stdout",
     "output_type": "stream",
     "text": [
      "T2_big_pickle - loading 1 of 1 subjects\n",
      "ksp: (10, 12, 320, 320) \tcsm: (10, 12, 320, 320)\n",
      "Loaded dataset of 10 slices\n",
      "\n"
     ]
    }
   ],
   "source": [
    "data_set = DataGenBrain(start_sub=ts[\"startSubj\"], num_sub = ts[\"endSubj\"],device = device, acc = ts[\"acc\"])\n",
    "batch_size = ts[\"batch_size\"]\n",
    "data_loader = DataLoader(dataset = data_set, batch_size = batch_size, shuffle = True)\n"
   ]
  },
  {
   "cell_type": "markdown",
   "id": "8be89798-2221-4a93-9e0d-305649cc2ca2",
   "metadata": {},
   "source": [
    "## Training loop"
   ]
  },
  {
   "cell_type": "code",
   "execution_count": 4,
   "id": "f94de6e5-20f7-4153-9f05-b53744d1c3a0",
   "metadata": {
    "tags": []
   },
   "outputs": [
    {
     "data": {
      "application/json": {
       "ascii": false,
       "bar_format": null,
       "colour": null,
       "elapsed": 0.013323783874511719,
       "initial": 0,
       "n": 0,
       "ncols": null,
       "nrows": null,
       "postfix": null,
       "prefix": "",
       "rate": null,
       "total": 500,
       "unit": "it",
       "unit_divisor": 1000,
       "unit_scale": false
      },
      "application/vnd.jupyter.widget-view+json": {
       "model_id": "1a069b48748840c7b86f6a2c632fc99f",
       "version_major": 2,
       "version_minor": 0
      },
      "text/plain": [
       "  0%|          | 0/500 [00:00<?, ?it/s]"
      ]
     },
     "metadata": {},
     "output_type": "display_data"
    }
   ],
   "source": [
    "#loading the energy net for training\n",
    "net = UNetRes(in_nc=ts[\"input_channel\"], out_nc = ts[\"output_channel\"],nc = [ts[\"ch0\"],ts[\"ch1\"], ts[\"ch2\"], ts[\"ch3\"]])\n",
    "net = net.to(device)\n",
    "energy_net = EBM(net)\n",
    "energy_net = energy_net.to(device)\n",
    "\n",
    "\n",
    "optimizer = Adam(energy_net.parameters(), lr=rate)\n",
    "#scheduler = ReduceLROnPlateau(optimizer, 'min')\n",
    "\n",
    "\n",
    "with tqdm(total= n_epochs, position=0) as pbar:\n",
    "\n",
    "    for epoch in epochs:\n",
    "        avg_loss = torch.zeros(1,dtype=torch.double)\n",
    "        num_items = 0\n",
    "        \n",
    "        for tstOrg, b, tstCsm, tstMask, idx in data_loader:\n",
    "            tstOrg = torch.squeeze(tstOrg,1)\n",
    "            tstOrg = tstOrg.type(torch.complex64)\n",
    "            tstOrg = tstOrg.to(device) \n",
    "            \n",
    "            \n",
    "            if(tstOrg.shape[0] == batch_size):            \n",
    "                perturbation = ts[\"pert\"]* torch.rand(1) \n",
    "                std = std_fixed + perturbation\n",
    "                std = std.cuda()\n",
    "                random_var = torch.randn_like(tstOrg)\n",
    "                noise = random_var * std[:, None, None, None]\n",
    "                E,score = energy_net.giveScore(tstOrg+noise)\n",
    "                std_new = std + 1e-4*(std==0)\n",
    "                #Denoising score matching loss\n",
    "                loss = torch.mean(torch.sum((-score +noise).abs()**2, dim=(1,2,3)))\n",
    "                optimizer.zero_grad()\n",
    "                loss.backward()    \n",
    "                optimizer.step()\n",
    "                \n",
    "                with torch.no_grad():     \n",
    "                    avg_loss = avg_loss + loss.item() * tstOrg.shape[0]       \n",
    "                    num_items = num_items+ tstOrg.shape[0] \n",
    "        \n",
    "        t_loss.append((avg_loss/num_items).item())\n",
    "        #scheduler.step(avg_loss)\n",
    "        if(np.mod(epoch,save_every_N_epoch)==0):\n",
    "            pbar.set_description(f\"loss: {avg_loss.item()/num_items: .6f}\")\n",
    "            pbar.update(save_every_N_epoch )\n",
    "            save_model.saveModel(energy_net,epoch)\n",
    "            save_model.write(\"loss\",avg_loss.item()/num_items,epoch.item())\n",
    "\n",
    "\n",
    "\n"
   ]
  },
  {
   "cell_type": "markdown",
   "id": "9b979f7f-b197-457d-83ff-be282a67aa26",
   "metadata": {},
   "source": [
    "## Evaluating denoising performance of the above energy net"
   ]
  },
  {
   "cell_type": "code",
   "execution_count": null,
   "id": "d5927857-ec69-4fb5-96ac-298579a96cd5",
   "metadata": {
    "tags": []
   },
   "outputs": [],
   "source": [
    "#Testing the denoising performance of energy net \n",
    "energy_net = energy_net.eval()\n",
    "std = 0.05*torch.ones(1)\n",
    "std = std.cuda()\n",
    "img,b0,tstCsm,tstMask,idx = data_set[2]\n",
    "img = img.type(torch.complex64)\n",
    "img = img.to(device) \n",
    "random_var = torch.randn_like(img)\n",
    "noise = random_var * std[:, None, None, None]\n",
    "noisy = img+noise\n",
    "cost,Egrad = energy_net.giveScore(noisy)\n",
    "denoised = noisy-((Egrad))\n",
    "prediction = np.squeeze(torch.abs(denoised).detach().cpu().numpy())\n",
    "del cost,Egrad\n",
    "\n",
    "\n",
    "    \n",
    "plt.figure(figsize=(8,5))\n",
    "plt.subplot(231)\n",
    "plt.imshow(img[0,0].abs().detach().cpu(),plt.cm.gray,vmax=0.5)\n",
    "plt.title('Org')\n",
    "plt.axis('off')\n",
    "plt.subplot(232)\n",
    "plt.imshow((noisy)[0,0].abs().detach().cpu(),plt.cm.gray,vmax=0.5)\n",
    "plt.title('Noisy')\n",
    "plt.axis('off')\n",
    "plt.subplot(233)\n",
    "plt.imshow((denoised)[0,0].abs().detach().cpu(),plt.cm.gray,vmax=0.5)\n",
    "plt.title('Denoised')\n",
    "plt.axis('off')\n",
    "plt.subplot(235)\n",
    "plt.imshow((img-noisy)[0,0].abs().detach().cpu())\n",
    "plt.title('Org-Noisy')\n",
    "plt.axis('off')\n",
    "plt.subplot(236)\n",
    "plt.imshow((img-denoised)[0,0].abs().detach().cpu())\n",
    "plt.title('Org-Denoised')\n",
    "plt.axis('off')"
   ]
  },
  {
   "cell_type": "code",
   "execution_count": null,
   "id": "7ed3c372-35d7-4a1a-976c-adc90d7fcdcc",
   "metadata": {},
   "outputs": [],
   "source": []
  }
 ],
 "metadata": {
  "kernelspec": {
   "display_name": "Pytorch Cuda 11.6",
   "language": "python",
   "name": "pytorch-cuda116"
  },
  "language_info": {
   "codemirror_mode": {
    "name": "ipython",
    "version": 3
   },
   "file_extension": ".py",
   "mimetype": "text/x-python",
   "name": "python",
   "nbconvert_exporter": "python",
   "pygments_lexer": "ipython3",
   "version": "3.9.13"
  }
 },
 "nbformat": 4,
 "nbformat_minor": 5
}
